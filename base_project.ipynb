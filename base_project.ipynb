{
 "cells": [
  {
   "cell_type": "markdown",
   "id": "892a3510-8b5d-49d1-9ade-0408f56daaba",
   "metadata": {},
   "source": [
    "# Predicting Solubility from Molecular Structure with Regression"
   ]
  },
  {
   "cell_type": "markdown",
   "id": "fc150d9f-f5ef-4d55-8484-6e9179ee7b6d",
   "metadata": {},
   "source": [
    "- Delaney, J.S., J. Chem. Inf. Comput. Sci. 2004, 44, 3, 1000–1005"
   ]
  },
  {
   "cell_type": "code",
   "execution_count": 55,
   "id": "39d2c08f-92d4-48c7-873b-99b107c5986b",
   "metadata": {},
   "outputs": [
    {
     "data": {
      "text/html": [
       "<div>\n",
       "<style scoped>\n",
       "    .dataframe tbody tr th:only-of-type {\n",
       "        vertical-align: middle;\n",
       "    }\n",
       "\n",
       "    .dataframe tbody tr th {\n",
       "        vertical-align: top;\n",
       "    }\n",
       "\n",
       "    .dataframe thead th {\n",
       "        text-align: right;\n",
       "    }\n",
       "</style>\n",
       "<table border=\"1\" class=\"dataframe\">\n",
       "  <thead>\n",
       "    <tr style=\"text-align: right;\">\n",
       "      <th></th>\n",
       "      <th>iupac</th>\n",
       "      <th>log_solubility</th>\n",
       "      <th>log_solubility_pred</th>\n",
       "      <th>SMILES</th>\n",
       "    </tr>\n",
       "  </thead>\n",
       "  <tbody>\n",
       "    <tr>\n",
       "      <th>0</th>\n",
       "      <td>1,1,1,2-Tetrachloroethane</td>\n",
       "      <td>-2.18</td>\n",
       "      <td>-2.794</td>\n",
       "      <td>ClCC(Cl)(Cl)Cl</td>\n",
       "    </tr>\n",
       "    <tr>\n",
       "      <th>1</th>\n",
       "      <td>1,1,1-Trichloroethane</td>\n",
       "      <td>-2.00</td>\n",
       "      <td>-2.232</td>\n",
       "      <td>CC(Cl)(Cl)Cl</td>\n",
       "    </tr>\n",
       "    <tr>\n",
       "      <th>2</th>\n",
       "      <td>1,1,2,2-Tetrachloroethane</td>\n",
       "      <td>-1.74</td>\n",
       "      <td>-2.549</td>\n",
       "      <td>ClC(Cl)C(Cl)Cl</td>\n",
       "    </tr>\n",
       "    <tr>\n",
       "      <th>3</th>\n",
       "      <td>1,1,2-Trichloroethane</td>\n",
       "      <td>-1.48</td>\n",
       "      <td>-1.961</td>\n",
       "      <td>ClCC(Cl)Cl</td>\n",
       "    </tr>\n",
       "    <tr>\n",
       "      <th>4</th>\n",
       "      <td>1,1,2-Trichlorotrifluoroethane</td>\n",
       "      <td>-3.04</td>\n",
       "      <td>-3.077</td>\n",
       "      <td>FC(F)(Cl)C(F)(Cl)Cl</td>\n",
       "    </tr>\n",
       "  </tbody>\n",
       "</table>\n",
       "</div>"
      ],
      "text/plain": [
       "                            iupac  log_solubility  log_solubility_pred  \\\n",
       "0       1,1,1,2-Tetrachloroethane           -2.18               -2.794   \n",
       "1           1,1,1-Trichloroethane           -2.00               -2.232   \n",
       "2       1,1,2,2-Tetrachloroethane           -1.74               -2.549   \n",
       "3           1,1,2-Trichloroethane           -1.48               -1.961   \n",
       "4  1,1,2-Trichlorotrifluoroethane           -3.04               -3.077   \n",
       "\n",
       "                SMILES  \n",
       "0       ClCC(Cl)(Cl)Cl  \n",
       "1         CC(Cl)(Cl)Cl  \n",
       "2       ClC(Cl)C(Cl)Cl  \n",
       "3           ClCC(Cl)Cl  \n",
       "4  FC(F)(Cl)C(F)(Cl)Cl  "
      ]
     },
     "execution_count": 55,
     "metadata": {},
     "output_type": "execute_result"
    }
   ],
   "source": [
    "import pandas as pd\n",
    "import numpy as np\n",
    "from rdkit import Chem\n",
    "from rdkit.Chem import AllChem\n",
    "from rdkit.Chem import Descriptors\n",
    "\n",
    "\n",
    "COLUMN_NAMES = ['iupac', 'log_solubility', 'log_solubility_pred', 'SMILES']\n",
    "sol_data = pd.read_csv('data/delaney.csv', names=COLUMN_NAMES, header=0)\n",
    "sol_data.head()"
   ]
  },
  {
   "cell_type": "markdown",
   "id": "b741f145-2d06-4902-8d39-d3723da09869",
   "metadata": {},
   "source": [
    "Solubilities are measured in mol/L"
   ]
  },
  {
   "cell_type": "code",
   "execution_count": 39,
   "id": "bcc42d34-c457-4f34-b192-2f3ae7825746",
   "metadata": {},
   "outputs": [],
   "source": [
    "target = sol_data.iloc[:, 1].to_numpy()\n",
    "smiles = list(sol_data.SMILES)\n",
    "\n",
    "molecules = [Chem.MolFromSmiles(smile) for smile in smiles]\n",
    "\n",
    "assert len(molecules) == len(target) == len(smiles)"
   ]
  },
  {
   "cell_type": "code",
   "execution_count": 54,
   "id": "84afc429-58b3-494f-81ec-37c6c94bb4c7",
   "metadata": {},
   "outputs": [
    {
     "name": "stdout",
     "output_type": "stream",
     "text": [
      "IUPAC: 1,1,1,2-Tetrachloroethane\n",
      "SMILES: ClCC(Cl)(Cl)Cl\n",
      "\n",
      "     RDKit          2D\n",
      "\n",
      "  6  5  0  0  0  0  0  0  0  0999 V2000\n",
      "   -1.2990    0.7500    0.0000 Cl  0  0  0  0  0  0  0  0  0  0  0  0\n",
      "    0.0000    0.0000    0.0000 C   0  0  0  0  0  0  0  0  0  0  0  0\n",
      "    1.2990    0.7500    0.0000 C   0  0  0  0  0  0  0  0  0  0  0  0\n",
      "    2.5981    1.5000    0.0000 Cl  0  0  0  0  0  0  0  0  0  0  0  0\n",
      "    2.0490   -0.5490    0.0000 Cl  0  0  0  0  0  0  0  0  0  0  0  0\n",
      "    0.5490    2.0490    0.0000 Cl  0  0  0  0  0  0  0  0  0  0  0  0\n",
      "  1  2  1  0\n",
      "  2  3  1  0\n",
      "  3  4  1  0\n",
      "  3  5  1  0\n",
      "  3  6  1  0\n",
      "M  END\n",
      "\n"
     ]
    },
    {
     "data": {
      "image/png": "[encoded data removed]",
      "text/plain": [
       "<rdkit.Chem.rdchem.Mol at 0x7ffda80e4990>"
      ]
     },
     "metadata": {},
     "output_type": "display_data"
    },
    {
     "name": "stdout",
     "output_type": "stream",
     "text": [
      "IUPAC: 1,1,1-Trichloroethane\n",
      "SMILES: CC(Cl)(Cl)Cl\n",
      "\n",
      "     RDKit          2D\n",
      "\n",
      "  5  4  0  0  0  0  0  0  0  0999 V2000\n",
      "    0.0000    0.0000    0.0000 C   0  0  0  0  0  0  0  0  0  0  0  0\n",
      "    1.2990    0.7500    0.0000 C   0  0  0  0  0  0  0  0  0  0  0  0\n",
      "    2.5981    1.5000    0.0000 Cl  0  0  0  0  0  0  0  0  0  0  0  0\n",
      "    2.0490   -0.5490    0.0000 Cl  0  0  0  0  0  0  0  0  0  0  0  0\n",
      "    0.5490    2.0490    0.0000 Cl  0  0  0  0  0  0  0  0  0  0  0  0\n",
      "  1  2  1  0\n",
      "  2  3  1  0\n",
      "  2  4  1  0\n",
      "  2  5  1  0\n",
      "M  END\n",
      "\n"
     ]
    },
    {
     "data": {
      "image/png": "[encoded data removed]",
      "text/plain": [
       "<rdkit.Chem.rdchem.Mol at 0x7ffda8111c10>"
      ]
     },
     "metadata": {},
     "output_type": "display_data"
    },
    {
     "name": "stdout",
     "output_type": "stream",
     "text": [
      "IUPAC: 1,1,2,2-Tetrachloroethane\n",
      "SMILES: ClC(Cl)C(Cl)Cl\n",
      "\n",
      "     RDKit          2D\n",
      "\n",
      "  6  5  0  0  0  0  0  0  0  0999 V2000\n",
      "   -1.2990    0.7500    0.0000 Cl  0  0  0  0  0  0  0  0  0  0  0  0\n",
      "    0.0000    0.0000    0.0000 C   0  0  0  0  0  0  0  0  0  0  0  0\n",
      "   -0.0000   -1.5000    0.0000 Cl  0  0  0  0  0  0  0  0  0  0  0  0\n",
      "    1.2990    0.7500    0.0000 C   0  0  0  0  0  0  0  0  0  0  0  0\n",
      "    2.5981   -0.0000    0.0000 Cl  0  0  0  0  0  0  0  0  0  0  0  0\n",
      "    1.2990    2.2500    0.0000 Cl  0  0  0  0  0  0  0  0  0  0  0  0\n",
      "  1  2  1  0\n",
      "  2  3  1  0\n",
      "  2  4  1  0\n",
      "  4  5  1  0\n",
      "  4  6  1  0\n",
      "M  END\n",
      "\n"
     ]
    },
    {
     "data": {
      "image/png": "[encoded data removed]",
      "text/plain": [
       "<rdkit.Chem.rdchem.Mol at 0x7ffda80e6760>"
      ]
     },
     "metadata": {},
     "output_type": "display_data"
    }
   ],
   "source": [
    "sample_molecules = molecules[0:3]\n",
    "for i, mol in enumerate(sample_molecules):\n",
    "    print(\"IUPAC:\", sol_data['iupac'][i])\n",
    "    print(\"SMILES:\", sol_data['SMILES'][i])\n",
    "    print(Chem.MolToMolBlock(mol))\n",
    "    display(mol)"
   ]
  },
  {
   "cell_type": "code",
   "execution_count": 51,
   "id": "8140a40f-2529-414d-859a-96d7fdebe300",
   "metadata": {},
   "outputs": [
    {
     "data": {
      "text/html": [
       "<div>\n",
       "<style scoped>\n",
       "    .dataframe tbody tr th:only-of-type {\n",
       "        vertical-align: middle;\n",
       "    }\n",
       "\n",
       "    .dataframe tbody tr th {\n",
       "        vertical-align: top;\n",
       "    }\n",
       "\n",
       "    .dataframe thead th {\n",
       "        text-align: right;\n",
       "    }\n",
       "</style>\n",
       "<table border=\"1\" class=\"dataframe\">\n",
       "  <thead>\n",
       "    <tr style=\"text-align: right;\">\n",
       "      <th></th>\n",
       "      <th>MW</th>\n",
       "      <th>cLogP</th>\n",
       "      <th>RB</th>\n",
       "      <th>AP</th>\n",
       "    </tr>\n",
       "  </thead>\n",
       "  <tbody>\n",
       "    <tr>\n",
       "      <th>0</th>\n",
       "      <td>167.850</td>\n",
       "      <td>2.59540</td>\n",
       "      <td>0</td>\n",
       "      <td>0.000000</td>\n",
       "    </tr>\n",
       "    <tr>\n",
       "      <th>1</th>\n",
       "      <td>133.405</td>\n",
       "      <td>2.37650</td>\n",
       "      <td>0</td>\n",
       "      <td>0.000000</td>\n",
       "    </tr>\n",
       "    <tr>\n",
       "      <th>2</th>\n",
       "      <td>167.850</td>\n",
       "      <td>2.59380</td>\n",
       "      <td>1</td>\n",
       "      <td>0.000000</td>\n",
       "    </tr>\n",
       "    <tr>\n",
       "      <th>3</th>\n",
       "      <td>133.405</td>\n",
       "      <td>2.02890</td>\n",
       "      <td>1</td>\n",
       "      <td>0.000000</td>\n",
       "    </tr>\n",
       "    <tr>\n",
       "      <th>4</th>\n",
       "      <td>187.375</td>\n",
       "      <td>2.91890</td>\n",
       "      <td>1</td>\n",
       "      <td>0.000000</td>\n",
       "    </tr>\n",
       "    <tr>\n",
       "      <th>...</th>\n",
       "      <td>...</td>\n",
       "      <td>...</td>\n",
       "      <td>...</td>\n",
       "      <td>...</td>\n",
       "    </tr>\n",
       "    <tr>\n",
       "      <th>1139</th>\n",
       "      <td>287.343</td>\n",
       "      <td>1.98820</td>\n",
       "      <td>8</td>\n",
       "      <td>0.000000</td>\n",
       "    </tr>\n",
       "    <tr>\n",
       "      <th>1140</th>\n",
       "      <td>286.114</td>\n",
       "      <td>3.42130</td>\n",
       "      <td>2</td>\n",
       "      <td>0.333333</td>\n",
       "    </tr>\n",
       "    <tr>\n",
       "      <th>1141</th>\n",
       "      <td>308.333</td>\n",
       "      <td>3.60960</td>\n",
       "      <td>4</td>\n",
       "      <td>0.695652</td>\n",
       "    </tr>\n",
       "    <tr>\n",
       "      <th>1142</th>\n",
       "      <td>354.815</td>\n",
       "      <td>2.56214</td>\n",
       "      <td>3</td>\n",
       "      <td>0.521739</td>\n",
       "    </tr>\n",
       "    <tr>\n",
       "      <th>1143</th>\n",
       "      <td>179.219</td>\n",
       "      <td>2.02164</td>\n",
       "      <td>1</td>\n",
       "      <td>0.461538</td>\n",
       "    </tr>\n",
       "  </tbody>\n",
       "</table>\n",
       "<p>1144 rows × 4 columns</p>\n",
       "</div>"
      ],
      "text/plain": [
       "           MW    cLogP  RB        AP\n",
       "0     167.850  2.59540   0  0.000000\n",
       "1     133.405  2.37650   0  0.000000\n",
       "2     167.850  2.59380   1  0.000000\n",
       "3     133.405  2.02890   1  0.000000\n",
       "4     187.375  2.91890   1  0.000000\n",
       "...       ...      ...  ..       ...\n",
       "1139  287.343  1.98820   8  0.000000\n",
       "1140  286.114  3.42130   2  0.333333\n",
       "1141  308.333  3.60960   4  0.695652\n",
       "1142  354.815  2.56214   3  0.521739\n",
       "1143  179.219  2.02164   1  0.461538\n",
       "\n",
       "[1144 rows x 4 columns]"
      ]
     },
     "execution_count": 51,
     "metadata": {},
     "output_type": "execute_result"
    }
   ],
   "source": [
    "def get_predictors(mol):\n",
    "    molecular_weight = Descriptors.MolWt(mol)\n",
    "    oct_water_partition_coefficient = Descriptors.MolLogP(mol)\n",
    "    num_rotatable_bonds = Descriptors.NumRotatableBonds(mol)\n",
    "    aromatic_proportion = get_aromatic_proportion(mol)\n",
    "    \n",
    "    entry = {\n",
    "        'MW': molecular_weight,\n",
    "        'cLogP': oct_water_partition_coefficient,\n",
    "        'RB': num_rotatable_bonds,\n",
    "        'AP': aromatic_proportion\n",
    "    }\n",
    "    return entry\n",
    "\n",
    "def get_aromatic_proportion(mol):\n",
    "    are_aromatic = [mol.GetAtomWithIdx(i).GetIsAromatic() for i in range(mol.GetNumAtoms())]\n",
    "    return sum(are_aromatic) / len(are_aromatic)\n",
    "\n",
    "entries = [get_predictors(mol) for mol in molecules]\n",
    "\n",
    "pd.DataFrame(entries, columns=['MW', 'cLogP', 'RB', 'AP'])"
   ]
  },
  {
   "cell_type": "markdown",
   "id": "db99eb2d-5f4a-4866-b3bf-62e12e398d50",
   "metadata": {},
   "source": [
    "### Calculating Predictors\n",
    "- cLogP (Octanol-water partition coefficient)\n",
    "- MW (molecular weight)\n",
    "- RB (number of rotatable bonds)\n",
    "- AP (Aromatic proportion = number of aromatic atoms / number of heavy atoms)"
   ]
  },
  {
   "cell_type": "code",
   "execution_count": null,
   "id": "343539ea-1153-451d-a58f-af17b7ae5957",
   "metadata": {},
   "outputs": [],
   "source": []
  }
 ],
 "metadata": {
  "kernelspec": {
   "display_name": "chem-env",
   "language": "python",
   "name": "chem-env"
  },
  "language_info": {
   "codemirror_mode": {
    "name": "ipython",
    "version": 3
   },
   "file_extension": ".py",
   "mimetype": "text/x-python",
   "name": "python",
   "nbconvert_exporter": "python",
   "pygments_lexer": "ipython3",
   "version": "3.7.11"
  }
 },
 "nbformat": 4,
 "nbformat_minor": 5
}
