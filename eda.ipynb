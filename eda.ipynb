{
 "cells": [
  {
   "cell_type": "markdown",
   "id": "99ec2852-b3ed-4986-9b5b-1cccbde37a8c",
   "metadata": {
    "tags": []
   },
   "source": [
    "# Predicting Solubility from Molecular Structure with Regression"
   ]
  },
  {
   "cell_type": "markdown",
   "id": "9847d0f2-4c58-4f62-8d38-045657e804da",
   "metadata": {},
   "source": [
    "- Delaney, J.S., J. Chem. Inf. Comput. Sci. 2004, 44, 3, 1000–1005"
   ]
  },
  {
   "cell_type": "code",
   "execution_count": 48,
   "id": "fe59f5a9-1272-47c9-a444-158718f7f8ff",
   "metadata": {},
   "outputs": [],
   "source": [
    "import math\n",
    "from PIL import Image\n",
    "\n",
    "import pandas as pd\n",
    "import numpy as np\n",
    "\n",
    "from rdkit import Chem\n",
    "from rdkit.Chem import AllChem, Descriptors, Draw\n",
    "\n",
    "from sklearn.linear_model import LinearRegression, Ridge, Lasso, ElasticNet\n",
    "from sklearn.ensemble import GradientBoostingRegressor\n",
    "\n",
    "from tools import helpers as h"
   ]
  },
  {
   "cell_type": "code",
   "execution_count": 36,
   "id": "9e1d80ef-0475-407f-809d-5cf1c4d78542",
   "metadata": {},
   "outputs": [
    {
     "data": {
      "text/html": [
       "<div>\n",
       "<style scoped>\n",
       "    .dataframe tbody tr th:only-of-type {\n",
       "        vertical-align: middle;\n",
       "    }\n",
       "\n",
       "    .dataframe tbody tr th {\n",
       "        vertical-align: top;\n",
       "    }\n",
       "\n",
       "    .dataframe thead th {\n",
       "        text-align: right;\n",
       "    }\n",
       "</style>\n",
       "<table border=\"1\" class=\"dataframe\">\n",
       "  <thead>\n",
       "    <tr style=\"text-align: right;\">\n",
       "      <th></th>\n",
       "      <th>iupac</th>\n",
       "      <th>log_solubility</th>\n",
       "      <th>log_solubility_pred</th>\n",
       "      <th>SMILES</th>\n",
       "    </tr>\n",
       "  </thead>\n",
       "  <tbody>\n",
       "    <tr>\n",
       "      <th>0</th>\n",
       "      <td>1,1,1,2-Tetrachloroethane</td>\n",
       "      <td>-2.18</td>\n",
       "      <td>-2.794</td>\n",
       "      <td>ClCC(Cl)(Cl)Cl</td>\n",
       "    </tr>\n",
       "    <tr>\n",
       "      <th>1</th>\n",
       "      <td>1,1,1-Trichloroethane</td>\n",
       "      <td>-2.00</td>\n",
       "      <td>-2.232</td>\n",
       "      <td>CC(Cl)(Cl)Cl</td>\n",
       "    </tr>\n",
       "    <tr>\n",
       "      <th>2</th>\n",
       "      <td>1,1,2,2-Tetrachloroethane</td>\n",
       "      <td>-1.74</td>\n",
       "      <td>-2.549</td>\n",
       "      <td>ClC(Cl)C(Cl)Cl</td>\n",
       "    </tr>\n",
       "    <tr>\n",
       "      <th>3</th>\n",
       "      <td>1,1,2-Trichloroethane</td>\n",
       "      <td>-1.48</td>\n",
       "      <td>-1.961</td>\n",
       "      <td>ClCC(Cl)Cl</td>\n",
       "    </tr>\n",
       "    <tr>\n",
       "      <th>4</th>\n",
       "      <td>1,1,2-Trichlorotrifluoroethane</td>\n",
       "      <td>-3.04</td>\n",
       "      <td>-3.077</td>\n",
       "      <td>FC(F)(Cl)C(F)(Cl)Cl</td>\n",
       "    </tr>\n",
       "    <tr>\n",
       "      <th>5</th>\n",
       "      <td>1,1-Dichloroethane</td>\n",
       "      <td>-1.29</td>\n",
       "      <td>-1.576</td>\n",
       "      <td>CC(Cl)Cl</td>\n",
       "    </tr>\n",
       "    <tr>\n",
       "      <th>6</th>\n",
       "      <td>1,1-Dichloroethylene</td>\n",
       "      <td>-1.64</td>\n",
       "      <td>-1.939</td>\n",
       "      <td>ClC(=C)Cl</td>\n",
       "    </tr>\n",
       "    <tr>\n",
       "      <th>7</th>\n",
       "      <td>1,1-Diethoxyethane</td>\n",
       "      <td>-0.43</td>\n",
       "      <td>-0.899</td>\n",
       "      <td>CCOC(C)OCC</td>\n",
       "    </tr>\n",
       "    <tr>\n",
       "      <th>8</th>\n",
       "      <td>1,2,3,4-Tetrachlorobenzene</td>\n",
       "      <td>-4.57</td>\n",
       "      <td>-4.546</td>\n",
       "      <td>Clc1ccc(Cl)c(Cl)c1Cl</td>\n",
       "    </tr>\n",
       "    <tr>\n",
       "      <th>9</th>\n",
       "      <td>1,2,3,4-Tetrahydronapthalene</td>\n",
       "      <td>-4.37</td>\n",
       "      <td>-3.447</td>\n",
       "      <td>C1CCc2ccccc2C1</td>\n",
       "    </tr>\n",
       "  </tbody>\n",
       "</table>\n",
       "</div>"
      ],
      "text/plain": [
       "                            iupac  log_solubility  log_solubility_pred  \\\n",
       "0       1,1,1,2-Tetrachloroethane           -2.18               -2.794   \n",
       "1           1,1,1-Trichloroethane           -2.00               -2.232   \n",
       "2       1,1,2,2-Tetrachloroethane           -1.74               -2.549   \n",
       "3           1,1,2-Trichloroethane           -1.48               -1.961   \n",
       "4  1,1,2-Trichlorotrifluoroethane           -3.04               -3.077   \n",
       "5              1,1-Dichloroethane           -1.29               -1.576   \n",
       "6            1,1-Dichloroethylene           -1.64               -1.939   \n",
       "7             1,1-Diethoxyethane            -0.43               -0.899   \n",
       "8      1,2,3,4-Tetrachlorobenzene           -4.57               -4.546   \n",
       "9    1,2,3,4-Tetrahydronapthalene           -4.37               -3.447   \n",
       "\n",
       "                 SMILES  \n",
       "0        ClCC(Cl)(Cl)Cl  \n",
       "1          CC(Cl)(Cl)Cl  \n",
       "2        ClC(Cl)C(Cl)Cl  \n",
       "3            ClCC(Cl)Cl  \n",
       "4   FC(F)(Cl)C(F)(Cl)Cl  \n",
       "5              CC(Cl)Cl  \n",
       "6             ClC(=C)Cl  \n",
       "7            CCOC(C)OCC  \n",
       "8  Clc1ccc(Cl)c(Cl)c1Cl  \n",
       "9        C1CCc2ccccc2C1  "
      ]
     },
     "execution_count": 36,
     "metadata": {},
     "output_type": "execute_result"
    }
   ],
   "source": [
    "COLUMN_NAMES = ['iupac', 'log_solubility', 'log_solubility_pred', 'SMILES']\n",
    "sol_data = pd.read_csv('data/delaney.csv', names=COLUMN_NAMES, header=0)\n",
    "sol_data.head(10)"
   ]
  },
  {
   "cell_type": "code",
   "execution_count": 2,
   "id": "5a4c64f3-89da-456c-8837-e605a647123a",
   "metadata": {},
   "outputs": [
    {
     "name": "stdout",
     "output_type": "stream",
     "text": [
      "<class 'pandas.core.frame.DataFrame'>\n",
      "RangeIndex: 1144 entries, 0 to 1143\n",
      "Data columns (total 4 columns):\n",
      " #   Column               Non-Null Count  Dtype  \n",
      "---  ------               --------------  -----  \n",
      " 0   iupac                1144 non-null   object \n",
      " 1   log_solubility       1144 non-null   float64\n",
      " 2   log_solubility_pred  1144 non-null   float64\n",
      " 3   SMILES               1144 non-null   object \n",
      "dtypes: float64(2), object(2)\n",
      "memory usage: 35.9+ KB\n"
     ]
    }
   ],
   "source": [
    "sol_data.info()"
   ]
  },
  {
   "cell_type": "markdown",
   "id": "807165bc-d9da-43ea-b444-1145b075f547",
   "metadata": {},
   "source": [
    "Solubilities are measured in mol/L"
   ]
  },
  {
   "cell_type": "code",
   "execution_count": 26,
   "id": "252df61c-cad4-4a07-9c9a-3453e6e396cf",
   "metadata": {},
   "outputs": [
    {
     "name": "stdout",
     "output_type": "stream",
     "text": [
      "X.shape = (1144, 4)\n",
      "y.shape = (1144,)\n"
     ]
    }
   ],
   "source": [
    "# Data for molecule preprocessing\n",
    "target = sol_data.iloc[:, 1]\n",
    "molecules = [Chem.MolFromSmiles(smi) for smi in sol_data.SMILES]\n",
    "\n",
    "# Set name of molecule\n",
    "for i, mol in enumerate(molecules):\n",
    "    mol.SetProp('_Name', sol_data.iupac.iloc[i])\n",
    "\n",
    "# Compute 2D coordinates\n",
    "for mol in molecules:\n",
    "    _ = AllChem.Compute2DCoords(mol)\n",
    "\n",
    "feature_array = h.get_feature_array(molecules)\n",
    "\n",
    "X = feature_array.to_numpy()\n",
    "y = target.to_numpy()\n",
    "\n",
    "print(f\"X.shape = {X.shape}\\ny.shape = {y.shape}\")"
   ]
  },
  {
   "cell_type": "code",
   "execution_count": 57,
   "id": "e9a4a284-b3db-49e2-bd64-4025f7bfe31d",
   "metadata": {},
   "outputs": [
    {
     "name": "stdout",
     "output_type": "stream",
     "text": [
      "50\n",
      "<class 'IPython.core.display.Image'>\n",
      "['_ACCEPTABLE_EMBEDDINGS', '_FMT_GIF', '_FMT_JPEG', '_FMT_PNG', '_MIMETYPES', '__class__', '__delattr__', '__dict__', '__dir__', '__doc__', '__eq__', '__format__', '__ge__', '__getattribute__', '__gt__', '__hash__', '__init__', '__init_subclass__', '__le__', '__lt__', '__module__', '__ne__', '__new__', '__reduce__', '__reduce_ex__', '__repr__', '__setattr__', '__sizeof__', '__str__', '__subclasshook__', '__weakref__', '_check_data', '_data_and_metadata', '_find_ext', '_mimetype', '_read_flags', '_repr_html_', '_repr_jpeg_', '_repr_mimebundle_', '_repr_png_', '_retina_shape', '_show_mem_addr', 'data', 'embed', 'filename', 'format', 'height', 'metadata', 'reload', 'retina', 'unconfined', 'url', 'width']\n"
     ]
    }
   ],
   "source": [
    "n_pages = math.ceil(len(molecules) / mols_per_img)\n",
    "\n",
    "for i in range(n_pages):\n",
    "    start = i*50\n",
    "    end = start + 50\n",
    "    mols = molecules[start: end]\n",
    "    print(len(mols))\n",
    "    img = Draw.MolsToGridImage(\n",
    "        mols,\n",
    "        maxMols=50, # ensure no more than 50 molecules per page\n",
    "        molsPerRow=5,\n",
    "        legends=[mol.GetProp('_Name') for mol in molecules],\n",
    "        subImgSize=(200, 200),\n",
    "        returnPNG=True\n",
    "    )\n",
    "    print(type(img))\n",
    "    print(dir(img))\n",
    "    \n",
    "    break\n",
    "#     img.save(f'images/molecule_images/Page{i}.png')\n",
    "    \n",
    "# for i, mol in enumerate(sample_molecules):\n",
    "#     print(sol_data['iupac'][i])\n",
    "#     display(mol)"
   ]
  },
  {
   "cell_type": "markdown",
   "id": "106861cd-017e-4914-af63-47a73aba1fa2",
   "metadata": {},
   "source": [
    "### Calculating Predictors\n",
    "- cLogP (Octanol-water partition coefficient)\n",
    "- MW (molecular weight)\n",
    "- RB (number of rotatable bonds)\n",
    "- AP (Aromatic proportion = number of aromatic atoms / number of heavy atoms)"
   ]
  },
  {
   "cell_type": "code",
   "execution_count": null,
   "id": "7ce069f3-c0e4-4e54-82ea-f3aebbaad78c",
   "metadata": {},
   "outputs": [],
   "source": []
  }
 ],
 "metadata": {
  "kernelspec": {
   "display_name": "chem-env",
   "language": "python",
   "name": "chem-env"
  },
  "language_info": {
   "codemirror_mode": {
    "name": "ipython",
    "version": 3
   },
   "file_extension": ".py",
   "mimetype": "text/x-python",
   "name": "python",
   "nbconvert_exporter": "python",
   "pygments_lexer": "ipython3",
   "version": "3.7.11"
  }
 },
 "nbformat": 4,
 "nbformat_minor": 5
}
