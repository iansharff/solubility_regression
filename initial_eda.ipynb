{
 "cells": [
  {
   "cell_type": "markdown",
   "id": "892a3510-8b5d-49d1-9ade-0408f56daaba",
   "metadata": {},
   "source": [
    "# Predicting Solubility from Molecular Structure with Regression"
   ]
  },
  {
   "cell_type": "markdown",
   "id": "fc150d9f-f5ef-4d55-8484-6e9179ee7b6d",
   "metadata": {},
   "source": [
    "- Delaney, J.S., J. Chem. Inf. Comput. Sci. 2004, 44, 3, 1000–1005"
   ]
  },
  {
   "cell_type": "code",
   "execution_count": 1,
   "id": "39d2c08f-92d4-48c7-873b-99b107c5986b",
   "metadata": {},
   "outputs": [
    {
     "data": {
      "text/html": [
       "<div>\n",
       "<style scoped>\n",
       "    .dataframe tbody tr th:only-of-type {\n",
       "        vertical-align: middle;\n",
       "    }\n",
       "\n",
       "    .dataframe tbody tr th {\n",
       "        vertical-align: top;\n",
       "    }\n",
       "\n",
       "    .dataframe thead th {\n",
       "        text-align: right;\n",
       "    }\n",
       "</style>\n",
       "<table border=\"1\" class=\"dataframe\">\n",
       "  <thead>\n",
       "    <tr style=\"text-align: right;\">\n",
       "      <th></th>\n",
       "      <th>iupac</th>\n",
       "      <th>log_solubility</th>\n",
       "      <th>log_solubility_pred</th>\n",
       "      <th>SMILES</th>\n",
       "    </tr>\n",
       "  </thead>\n",
       "  <tbody>\n",
       "    <tr>\n",
       "      <th>0</th>\n",
       "      <td>1,1,1,2-Tetrachloroethane</td>\n",
       "      <td>-2.18</td>\n",
       "      <td>-2.794</td>\n",
       "      <td>ClCC(Cl)(Cl)Cl</td>\n",
       "    </tr>\n",
       "    <tr>\n",
       "      <th>1</th>\n",
       "      <td>1,1,1-Trichloroethane</td>\n",
       "      <td>-2.00</td>\n",
       "      <td>-2.232</td>\n",
       "      <td>CC(Cl)(Cl)Cl</td>\n",
       "    </tr>\n",
       "    <tr>\n",
       "      <th>2</th>\n",
       "      <td>1,1,2,2-Tetrachloroethane</td>\n",
       "      <td>-1.74</td>\n",
       "      <td>-2.549</td>\n",
       "      <td>ClC(Cl)C(Cl)Cl</td>\n",
       "    </tr>\n",
       "    <tr>\n",
       "      <th>3</th>\n",
       "      <td>1,1,2-Trichloroethane</td>\n",
       "      <td>-1.48</td>\n",
       "      <td>-1.961</td>\n",
       "      <td>ClCC(Cl)Cl</td>\n",
       "    </tr>\n",
       "    <tr>\n",
       "      <th>4</th>\n",
       "      <td>1,1,2-Trichlorotrifluoroethane</td>\n",
       "      <td>-3.04</td>\n",
       "      <td>-3.077</td>\n",
       "      <td>FC(F)(Cl)C(F)(Cl)Cl</td>\n",
       "    </tr>\n",
       "  </tbody>\n",
       "</table>\n",
       "</div>"
      ],
      "text/plain": [
       "                            iupac  log_solubility  log_solubility_pred  \\\n",
       "0       1,1,1,2-Tetrachloroethane           -2.18               -2.794   \n",
       "1           1,1,1-Trichloroethane           -2.00               -2.232   \n",
       "2       1,1,2,2-Tetrachloroethane           -1.74               -2.549   \n",
       "3           1,1,2-Trichloroethane           -1.48               -1.961   \n",
       "4  1,1,2-Trichlorotrifluoroethane           -3.04               -3.077   \n",
       "\n",
       "                SMILES  \n",
       "0       ClCC(Cl)(Cl)Cl  \n",
       "1         CC(Cl)(Cl)Cl  \n",
       "2       ClC(Cl)C(Cl)Cl  \n",
       "3           ClCC(Cl)Cl  \n",
       "4  FC(F)(Cl)C(F)(Cl)Cl  "
      ]
     },
     "execution_count": 1,
     "metadata": {},
     "output_type": "execute_result"
    }
   ],
   "source": [
    "import pandas as pd\n",
    "import numpy as np\n",
    "\n",
    "from rdkit import Chem\n",
    "from rdkit.Chem import AllChem\n",
    "from rdkit.Chem import Descriptors\n",
    "\n",
    "from tools import helpers as h\n",
    "\n",
    "COLUMN_NAMES = ['iupac', 'log_solubility', 'log_solubility_pred', 'SMILES']\n",
    "sol_data = pd.read_csv('data/delaney.csv', names=COLUMN_NAMES, header=0)\n",
    "sol_data.head()"
   ]
  },
  {
   "cell_type": "code",
   "execution_count": 2,
   "id": "702f1c13-fd48-416f-a3cc-622ff9dcd234",
   "metadata": {},
   "outputs": [
    {
     "name": "stdout",
     "output_type": "stream",
     "text": [
      "<class 'pandas.core.frame.DataFrame'>\n",
      "RangeIndex: 1144 entries, 0 to 1143\n",
      "Data columns (total 4 columns):\n",
      " #   Column               Non-Null Count  Dtype  \n",
      "---  ------               --------------  -----  \n",
      " 0   iupac                1144 non-null   object \n",
      " 1   log_solubility       1144 non-null   float64\n",
      " 2   log_solubility_pred  1144 non-null   float64\n",
      " 3   SMILES               1144 non-null   object \n",
      "dtypes: float64(2), object(2)\n",
      "memory usage: 35.9+ KB\n"
     ]
    }
   ],
   "source": [
    "sol_data.info()"
   ]
  },
  {
   "cell_type": "markdown",
   "id": "b741f145-2d06-4902-8d39-d3723da09869",
   "metadata": {},
   "source": [
    "Solubilities are measured in mol/L"
   ]
  },
  {
   "cell_type": "code",
   "execution_count": null,
   "id": "bcc42d34-c457-4f34-b192-2f3ae7825746",
   "metadata": {},
   "outputs": [],
   "source": [
    "target = sol_data.iloc[:, 1].to_numpy()\n",
    "smiles = list(sol_data.SMILES)\n",
    "\n",
    "molecules = [Chem.MolFromSmiles(smile) for smile in smiles]\n",
    "\n",
    "assert len(molecules) == len(target) == len(smiles)"
   ]
  },
  {
   "cell_type": "code",
   "execution_count": null,
   "id": "84afc429-58b3-494f-81ec-37c6c94bb4c7",
   "metadata": {},
   "outputs": [],
   "source": [
    "sample_molecules = molecules[0:3]\n",
    "for i, mol in enumerate(sample_molecules):\n",
    "    print(\"IUPAC:\", sol_data['iupac'][i])\n",
    "    print(\"SMILES:\", sol_data['SMILES'][i])\n",
    "    print(Chem.MolToMolBlock(mol))\n",
    "    display(mol)"
   ]
  },
  {
   "cell_type": "code",
   "execution_count": null,
   "id": "8140a40f-2529-414d-859a-96d7fdebe300",
   "metadata": {},
   "outputs": [],
   "source": [
    "sample_mol = molecules[4]\n",
    "\n",
    "def get_predictors(mol):\n",
    "    \n",
    "    molecular_weight = Descriptors.MolWt(mol)\n",
    "    oct_water_partition_coefficient = Descriptors.MolLogP(mol)\n",
    "    num_rotatable_bonds = Descriptors.NumRotatableBonds(mol)\n",
    "    aromatic_proportion = get_aromatic_proportion(mol)\n",
    "    \n",
    "    entry = {\n",
    "        'MW': molecular_weight,\n",
    "        'cLogP': oct_water_partition_coefficient,\n",
    "        'RB': num_rotatable_bonds,\n",
    "        'AP': aromatic_proportion\n",
    "    }\n",
    "    return entry\n",
    "\n",
    "def get_aromatic_proportion(mol):\n",
    "    are_aromatic = sum([mol.GetAtomWithIdx(i).GetIsAromatic() for i in range(mol.GetNumAtoms())])\n",
    "    are_heavy = Descriptors.HeavyAtomCount(mol)\n",
    "    print(are_aromatic, '/', are_heavy)\n",
    "    return are_aromatic / are_heavy\n",
    "\n",
    "\n",
    "display(sample_mol)\n",
    "print(get_predictors(sample_mol))\n",
    "\n",
    "pd.DataFrame??"
   ]
  },
  {
   "cell_type": "markdown",
   "id": "db99eb2d-5f4a-4866-b3bf-62e12e398d50",
   "metadata": {},
   "source": [
    "### Calculating Predictors\n",
    "- cLogP (Octanol-water partition coefficient)\n",
    "- MW (molecular weight)\n",
    "- RB (number of rotatable bonds)\n",
    "- AP (Aromatic proportion = number of aromatic atoms / number of heavy atoms)"
   ]
  },
  {
   "cell_type": "code",
   "execution_count": null,
   "id": "343539ea-1153-451d-a58f-af17b7ae5957",
   "metadata": {},
   "outputs": [],
   "source": []
  },
  {
   "cell_type": "code",
   "execution_count": null,
   "id": "c872f457-f81b-4266-af0b-9f32b4936650",
   "metadata": {},
   "outputs": [],
   "source": []
  }
 ],
 "metadata": {
  "kernelspec": {
   "display_name": "chem-env",
   "language": "python",
   "name": "chem-env"
  },
  "language_info": {
   "codemirror_mode": {
    "name": "ipython",
    "version": 3
   },
   "file_extension": ".py",
   "mimetype": "text/x-python",
   "name": "python",
   "nbconvert_exporter": "python",
   "pygments_lexer": "ipython3",
   "version": "3.7.11"
  }
 },
 "nbformat": 4,
 "nbformat_minor": 5
}
